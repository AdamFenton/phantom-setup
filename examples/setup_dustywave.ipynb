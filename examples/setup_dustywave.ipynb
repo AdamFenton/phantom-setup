{
 "cells": [
  {
   "cell_type": "markdown",
   "metadata": {},
   "source": [
    "# Dusty wave\n",
    "\n",
    "This notebook demonstrates setting up the dusty wave test.\n",
    "\n",
    "The dust and gas are co-located in a box with uniform density. There is an initial uniform differential velocity between the dust and gas."
   ]
  },
  {
   "cell_type": "markdown",
   "metadata": {},
   "source": [
    "## Initialization\n",
    "\n",
    "Import required modules."
   ]
  },
  {
   "cell_type": "code",
   "execution_count": null,
   "metadata": {},
   "outputs": [],
   "source": [
    "%load_ext blackcellmagic"
   ]
  },
  {
   "cell_type": "code",
   "execution_count": null,
   "metadata": {},
   "outputs": [],
   "source": [
    "import pathlib\n",
    "\n",
    "import matplotlib.pyplot as plt\n",
    "import numpy as np\n",
    "import phantomsetup\n",
    "import plonk"
   ]
  },
  {
   "cell_type": "code",
   "execution_count": null,
   "metadata": {},
   "outputs": [],
   "source": [
    "%matplotlib widget"
   ]
  },
  {
   "cell_type": "markdown",
   "metadata": {},
   "source": [
    "Set constants."
   ]
  },
  {
   "cell_type": "code",
   "execution_count": null,
   "metadata": {},
   "outputs": [],
   "source": [
    "igas = phantomsetup.defaults.PARTICLE_TYPE['igas']\n",
    "idust = phantomsetup.defaults.PARTICLE_TYPE['idust']"
   ]
  },
  {
   "cell_type": "markdown",
   "metadata": {},
   "source": [
    "## Parameters\n",
    "\n",
    "We set the parameters for the setup.\n",
    "\n",
    "### Prefix\n",
    "\n",
    "We set the file name prefix, such that the dump file is `prefix_00000.tmp.h5` and the in file is `prefix.in`."
   ]
  },
  {
   "cell_type": "code",
   "execution_count": null,
   "metadata": {},
   "outputs": [],
   "source": [
    "prefix = 'dustywave'"
   ]
  },
  {
   "cell_type": "markdown",
   "metadata": {},
   "source": [
    "### Equation of state\n",
    "\n",
    "An `ieos` of 1 sets the globally isothermal equation of state. The sound speed is the only free parameter."
   ]
  },
  {
   "cell_type": "code",
   "execution_count": null,
   "metadata": {},
   "outputs": [],
   "source": [
    "ieos = 1\n",
    "sound_speed = 1.0"
   ]
  },
  {
   "cell_type": "markdown",
   "metadata": {},
   "source": [
    "### Boundary\n",
    "\n",
    "The boundary of the box as (xmin, xmax, ymin, ymax, zmin, zmax)."
   ]
  },
  {
   "cell_type": "code",
   "execution_count": null,
   "metadata": {},
   "outputs": [],
   "source": [
    "box_boundary = (-0.5, 0.5, -0.5, 0.5, -0.5, 0.5)"
   ]
  },
  {
   "cell_type": "markdown",
   "metadata": {},
   "source": [
    "### Resolution\n",
    "\n",
    "The number of gas particles."
   ]
  },
  {
   "cell_type": "code",
   "execution_count": null,
   "metadata": {},
   "outputs": [],
   "source": [
    "number_of_particles_gas = 50_000"
   ]
  },
  {
   "cell_type": "markdown",
   "metadata": {},
   "source": [
    "The number of dust particles in each species."
   ]
  },
  {
   "cell_type": "code",
   "execution_count": null,
   "metadata": {},
   "outputs": [],
   "source": [
    "number_of_particles_dust = 10_000"
   ]
  },
  {
   "cell_type": "markdown",
   "metadata": {},
   "source": [
    "### Density\n",
    "\n",
    "The initial uniform density of the gas."
   ]
  },
  {
   "cell_type": "code",
   "execution_count": null,
   "metadata": {},
   "outputs": [],
   "source": [
    "density_gas = 1.0"
   ]
  },
  {
   "cell_type": "markdown",
   "metadata": {},
   "source": [
    "The dust-to-gas ratio for each dust species."
   ]
  },
  {
   "cell_type": "code",
   "execution_count": null,
   "metadata": {},
   "outputs": [],
   "source": [
    "dust_to_gas_ratio = (0.01, 0.02, 0.03, 0.04, 0.05)"
   ]
  },
  {
   "cell_type": "markdown",
   "metadata": {},
   "source": [
    "### Dust\n",
    "\n",
    "The dust drag method. Options are \"Epstein/Stokes\", \"K_const\", or \"ts_const\"."
   ]
  },
  {
   "cell_type": "code",
   "execution_count": null,
   "metadata": {},
   "outputs": [],
   "source": [
    "drag_method = 'K_const'"
   ]
  },
  {
   "cell_type": "markdown",
   "metadata": {},
   "source": [
    "The constant drag coefficient. This is not required for Epstein/Stokes drag."
   ]
  },
  {
   "cell_type": "code",
   "execution_count": null,
   "metadata": {},
   "outputs": [],
   "source": [
    "K_code = 1.0"
   ]
  },
  {
   "cell_type": "markdown",
   "metadata": {},
   "source": [
    "The grain size of each dust species. We don't set this for constant drag as it is not required."
   ]
  },
  {
   "cell_type": "code",
   "execution_count": null,
   "metadata": {},
   "outputs": [],
   "source": [
    "grain_size = ()"
   ]
  },
  {
   "cell_type": "markdown",
   "metadata": {},
   "source": [
    "The intrinsic grain density."
   ]
  },
  {
   "cell_type": "code",
   "execution_count": null,
   "metadata": {},
   "outputs": [],
   "source": [
    "grain_density = 3.0"
   ]
  },
  {
   "cell_type": "markdown",
   "metadata": {},
   "source": [
    "### Velocity\n",
    "\n",
    "The initial delta in uniform velocity between gas and dust."
   ]
  },
  {
   "cell_type": "code",
   "execution_count": null,
   "metadata": {},
   "outputs": [],
   "source": [
    "velocity_delta = 1.0"
   ]
  },
  {
   "cell_type": "markdown",
   "metadata": {},
   "source": [
    "## Instantiate phantomsetup object\n",
    "\n",
    "We instantiate the `phantom.Setup` object."
   ]
  },
  {
   "cell_type": "code",
   "execution_count": null,
   "metadata": {},
   "outputs": [],
   "source": [
    "setup = phantomsetup.Setup()"
   ]
  },
  {
   "cell_type": "markdown",
   "metadata": {},
   "source": [
    "Then we add the previously defined parameters to this object.\n",
    "\n",
    "### File prefix"
   ]
  },
  {
   "cell_type": "code",
   "execution_count": null,
   "metadata": {},
   "outputs": [],
   "source": [
    "setup.prefix = prefix"
   ]
  },
  {
   "cell_type": "markdown",
   "metadata": {},
   "source": [
    "### Set units\n",
    "\n",
    "We convert unit strings to cgs values to pass to the `set_units` method."
   ]
  },
  {
   "cell_type": "code",
   "execution_count": null,
   "metadata": {},
   "outputs": [],
   "source": [
    "length_unit = phantomsetup.units.unit_string_to_cgs('au')\n",
    "mass_unit = phantomsetup.units.unit_string_to_cgs('solarm')\n",
    "time_unit = phantomsetup.units.unit_string_to_cgs('year')"
   ]
  },
  {
   "cell_type": "code",
   "execution_count": null,
   "metadata": {},
   "outputs": [],
   "source": [
    "setup.set_units(length=length_unit, mass=mass_unit, time=time_unit)"
   ]
  },
  {
   "cell_type": "markdown",
   "metadata": {},
   "source": [
    "### Set equation of state"
   ]
  },
  {
   "cell_type": "code",
   "execution_count": null,
   "metadata": {},
   "outputs": [],
   "source": [
    "setup.set_equation_of_state(ieos=ieos, polyk=sound_speed ** 2)"
   ]
  },
  {
   "cell_type": "markdown",
   "metadata": {},
   "source": [
    "### Set dust\n",
    "\n",
    "Here we call the `set_dust` method differently depending on the drag type. First we get the number of species from the `dust_to_gas_ratio` tuple."
   ]
  },
  {
   "cell_type": "code",
   "execution_count": null,
   "metadata": {},
   "outputs": [],
   "source": [
    "number_of_dust_species = len(dust_to_gas_ratio)"
   ]
  },
  {
   "cell_type": "markdown",
   "metadata": {},
   "source": [
    "And we set the dust density from the dust-to-gas ratio."
   ]
  },
  {
   "cell_type": "code",
   "execution_count": null,
   "metadata": {},
   "outputs": [],
   "source": [
    "density_dust = [eps * density_gas for eps in dust_to_gas_ratio]"
   ]
  },
  {
   "cell_type": "markdown",
   "metadata": {},
   "source": [
    "Then we initialize the dust via the `set_dust` method."
   ]
  },
  {
   "cell_type": "code",
   "execution_count": null,
   "metadata": {},
   "outputs": [],
   "source": [
    "if drag_method == 'Epstein/Stokes':\n",
    "    setup.set_dust(\n",
    "        dust_method='largegrains',\n",
    "        drag_method=drag_method,\n",
    "        grain_size=grain_size,\n",
    "        grain_density=grain_density,\n",
    "    )\n",
    "\n",
    "elif drag_method in ('K_const', 'ts_const'):\n",
    "    setup.set_dust(\n",
    "        dust_method='largegrains',\n",
    "        drag_method=drag_method,\n",
    "        drag_constant=K_code,\n",
    "        number_of_dust_species=number_of_dust_species,\n",
    "    )"
   ]
  },
  {
   "cell_type": "markdown",
   "metadata": {},
   "source": [
    "### Set boundary\n",
    "\n",
    "This sets the boundary, and the boundary conditions to periodic."
   ]
  },
  {
   "cell_type": "code",
   "execution_count": null,
   "metadata": {
    "lines_to_next_cell": 1
   },
   "outputs": [],
   "source": [
    "setup.set_boundary(box_boundary, periodic=True)"
   ]
  },
  {
   "cell_type": "markdown",
   "metadata": {},
   "source": [
    "### Make a box of particles\n",
    "\n",
    "The `Box` class sets up a box of particles in a uniform spatial distribution with an arbitrary velocity field.\n",
    "\n",
    "Set lattice."
   ]
  },
  {
   "cell_type": "code",
   "execution_count": null,
   "metadata": {},
   "outputs": [],
   "source": [
    "lattice = 'cubic'"
   ]
  },
  {
   "cell_type": "markdown",
   "metadata": {},
   "source": [
    "#### Velocity distribution\n",
    "\n",
    "We first define a velocity distribution. The velocities are all sine waves."
   ]
  },
  {
   "cell_type": "code",
   "execution_count": null,
   "metadata": {
    "lines_to_next_cell": 1
   },
   "outputs": [],
   "source": [
    "box_width = (box_boundary[1] - box_boundary[0])\n",
    "kwave = 2 * np.pi / box_width\n",
    "ampl = 1.0e-4\n",
    "\n",
    "\n",
    "def velocity_distribution(x, y, z):\n",
    "    \"\"\"Initialize velocity perturbation.\"\"\"\n",
    "    vx, vy, vz = np.zeros(x.shape), np.zeros(y.shape), np.zeros(z.shape)\n",
    "    vx = ampl * np.sin(kwave * (x + box_width / 2))\n",
    "    return vx, vy, vz"
   ]
  },
  {
   "cell_type": "markdown",
   "metadata": {},
   "source": [
    "#### Make a gas box"
   ]
  },
  {
   "cell_type": "markdown",
   "metadata": {},
   "source": [
    "Then we instantiate a `Box` object, add particles, and add it to the setup."
   ]
  },
  {
   "cell_type": "code",
   "execution_count": null,
   "metadata": {
    "lines_to_next_cell": 1
   },
   "outputs": [],
   "source": [
    "boxes = list()\n",
    "box = phantomsetup.Box(\n",
    "    box_boundary=box_boundary,\n",
    "    particle_type=igas,\n",
    "    number_of_particles=number_of_particles_gas,\n",
    "    density=density_gas,\n",
    "    velocity_distribution=velocity_distribution,\n",
    "    lattice=lattice,\n",
    ")\n",
    "boxes.append(box)"
   ]
  },
  {
   "cell_type": "markdown",
   "metadata": {},
   "source": [
    "#### Make dust boxes\n",
    "\n",
    "We do the same for each dust species."
   ]
  },
  {
   "cell_type": "markdown",
   "metadata": {},
   "source": [
    "Then we iterate over each of the dust species."
   ]
  },
  {
   "cell_type": "code",
   "execution_count": null,
   "metadata": {},
   "outputs": [],
   "source": [
    "for idx in range(number_of_dust_species):\n",
    "    box = phantomsetup.Box(\n",
    "        box_boundary=box_boundary,\n",
    "        particle_type=idust + idx,\n",
    "        number_of_particles=number_of_particles_dust,\n",
    "        density=density_dust[idx],\n",
    "        velocity_distribution=velocity_distribution,\n",
    "        lattice=lattice,\n",
    "    )\n",
    "    boxes.append(box)"
   ]
  },
  {
   "cell_type": "markdown",
   "metadata": {},
   "source": [
    "### Add extra quantities to particles\n",
    "\n",
    "Phantom requires the $\\alpha$ viscosity parameter array. We set it to zero. Note that the array is single precision."
   ]
  },
  {
   "cell_type": "code",
   "execution_count": null,
   "metadata": {},
   "outputs": [],
   "source": [
    "for box in boxes:\n",
    "    alpha = np.zeros(box.number_of_particles, dtype=np.single)\n",
    "    box.set_array('alpha', alpha)"
   ]
  },
  {
   "cell_type": "markdown",
   "metadata": {},
   "source": [
    "### Add boxes to setup"
   ]
  },
  {
   "cell_type": "code",
   "execution_count": null,
   "metadata": {},
   "outputs": [],
   "source": [
    "for box in boxes:\n",
    "    setup.add_container(box)"
   ]
  },
  {
   "cell_type": "markdown",
   "metadata": {},
   "source": [
    "## Write to file\n",
    "\n",
    "Now that we are happy with the setup, write the \"temporary\" dump file with the initial conditions and the Phantom \"in\" file.\n",
    "\n",
    "First we set a working directory for the simulation."
   ]
  },
  {
   "cell_type": "code",
   "execution_count": null,
   "metadata": {},
   "outputs": [],
   "source": [
    "working_dir = pathlib.Path(f'~/runs/{prefix}').expanduser()"
   ]
  },
  {
   "cell_type": "code",
   "execution_count": null,
   "metadata": {},
   "outputs": [],
   "source": [
    "setup.write_dump_file(directory=working_dir)\n",
    "setup.write_in_file(directory=working_dir)"
   ]
  },
  {
   "cell_type": "markdown",
   "metadata": {},
   "source": [
    "## Compile Phantom\n",
    "\n",
    "You can start a Phantom calculation from these two files but you must compile Phantom with the correct Makefile variables. We can use the `phantom_compile_command` method to show how Phantom would be compiled."
   ]
  },
  {
   "cell_type": "code",
   "execution_count": null,
   "metadata": {},
   "outputs": [],
   "source": [
    "print(setup.phantom_compile_command())"
   ]
  },
  {
   "cell_type": "markdown",
   "metadata": {},
   "source": [
    "To compile Phantom we can use the `compile_phantom` method to compile Phantom. For example, the following will compile Phantom located in `phantom_dir` and copy the binary to `working_dir`.\n",
    "\n",
    "```\n",
    "result = setup.compile_phantom(\n",
    "    phantom_dir='~/repos/phantom',\n",
    "    working_dir=working_dir\n",
    ")\n",
    "```"
   ]
  },
  {
   "cell_type": "markdown",
   "metadata": {},
   "source": [
    "## Check with Plonk"
   ]
  },
  {
   "cell_type": "code",
   "execution_count": null,
   "metadata": {},
   "outputs": [],
   "source": [
    "snap = plonk.load_snap(working_dir / f\"{prefix}_00000.tmp.h5\")\n",
    "n_species = len(snap.properties['grain size']) + 1"
   ]
  },
  {
   "cell_type": "markdown",
   "metadata": {},
   "source": [
    "#### Positions"
   ]
  },
  {
   "cell_type": "code",
   "execution_count": null,
   "metadata": {},
   "outputs": [],
   "source": [
    "fig, axes = plt.subplots(ncols=n_species//2, nrows=2)\n",
    "for idx in range(n_species):\n",
    "    subsnap = snap[snap[\"dust_id\"] == idx]\n",
    "    plonk.visualize.plot(\n",
    "        x_coordinate=subsnap[\"x\"],\n",
    "        y_coordinate=subsnap[\"y\"],\n",
    "        extent=box_boundary,\n",
    "        particle_mass=subsnap[\"m\"],\n",
    "        smoothing_length=subsnap[\"h\"],\n",
    "        axis=axes.ravel()[idx],\n",
    "    )"
   ]
  },
  {
   "cell_type": "markdown",
   "metadata": {},
   "source": [
    "#### Velocities"
   ]
  },
  {
   "cell_type": "code",
   "execution_count": null,
   "metadata": {},
   "outputs": [],
   "source": [
    "factor = 1.5\n",
    "extent = (box_boundary[0], box_boundary[1], -ampl * factor, ampl * factor)\n",
    "\n",
    "fig, axes = plt.subplots(ncols=n_species//2, nrows=2)\n",
    "for idx in range(n_species):\n",
    "    axis = axes.ravel()[idx]\n",
    "    subsnap = snap[snap[\"dust_id\"] == idx]\n",
    "    plonk.visualize.plot(\n",
    "        x_coordinate=subsnap[\"x\"],\n",
    "        y_coordinate=subsnap[\"vx\"],\n",
    "        extent=extent,\n",
    "        particle_mass=subsnap[\"m\"],\n",
    "        smoothing_length=subsnap[\"h\"],\n",
    "        axis=axis,\n",
    "    )\n",
    "    axis.set_aspect('auto')"
   ]
  }
 ],
 "metadata": {
  "jupytext": {
   "cell_metadata_filter": "-all",
   "main_language": "python",
   "notebook_metadata_filter": "-all"
  },
  "kernelspec": {
   "display_name": "Python 3",
   "language": "python",
   "name": "python3"
  },
  "language_info": {
   "codemirror_mode": {
    "name": "ipython",
    "version": 3
   },
   "file_extension": ".py",
   "mimetype": "text/x-python",
   "name": "python",
   "nbconvert_exporter": "python",
   "pygments_lexer": "ipython3",
   "version": "3.7.3"
  }
 },
 "nbformat": 4,
 "nbformat_minor": 4
}
